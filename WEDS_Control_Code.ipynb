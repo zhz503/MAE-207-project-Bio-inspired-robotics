{
 "cells": [
  {
   "cell_type": "markdown",
   "metadata": {},
   "source": [
    "# MAE 207 Final Preoject: Bio-inspried Robot WEDS\n",
    "\n",
    "Team #: 1\n",
    "\n",
    "Names: Dawoon Kim, Emily Lathrop, Wei Li, (Spark) Zhaoliang Zheng"
   ]
  },
  {
   "cell_type": "code",
   "execution_count": 1,
   "metadata": {},
   "outputs": [
    {
     "name": "stdout",
     "output_type": "stream",
     "text": [
      "Connected!\n"
     ]
    }
   ],
   "source": [
    "# Import the robot class we are developing\n",
    "import robot\n",
    "# Make a new leg variable which is a robot.Leg class\n",
    "leg = robot.Leg()"
   ]
  },
  {
   "cell_type": "code",
   "execution_count": 2,
   "metadata": {},
   "outputs": [
    {
     "name": "stdout",
     "output_type": "stream",
     "text": [
      "1.5709191995587548\n",
      "1.5694409514809315\n"
     ]
    }
   ],
   "source": [
    "# set home position\n",
    "from math import pi\n",
    "leg.set_home()\n",
    "# record home position\n",
    "(home_0, home_1) = leg.get_joint_pos()\n",
    "print(float(home_0))\n",
    "print(float(home_1))"
   ]
  },
  {
   "cell_type": "code",
   "execution_count": 3,
   "metadata": {},
   "outputs": [],
   "source": [
    "# Walking forward\n",
    "leg.set_joint_pos(-100*pi+pi/2, 100*pi+pi/2, 0, 0, -10, 10)\n",
    "#leg.set_joint_pos(-1000*pi, 1000*pi, 0, 0, -10, 10)"
   ]
  },
  {
   "cell_type": "code",
   "execution_count": 5,
   "metadata": {},
   "outputs": [],
   "source": [
    "# Walking backward\n",
    "leg.set_joint_pos(20*pi+pi/2,-20+pi/2,0,0,12,-12)"
   ]
  },
  {
   "cell_type": "code",
   "execution_count": 9,
   "metadata": {},
   "outputs": [],
   "source": [
    "# Turning\n",
    "leg.set_joint_pos(-40*pi+pi/2, 40*pi+pi/2, 0, 0, -7, 12)"
   ]
  }
 ],
 "metadata": {
  "kernelspec": {
   "display_name": "Python 3",
   "language": "python",
   "name": "python3"
  },
  "language_info": {
   "codemirror_mode": {
    "name": "ipython",
    "version": 3
   },
   "file_extension": ".py",
   "mimetype": "text/x-python",
   "name": "python",
   "nbconvert_exporter": "python",
   "pygments_lexer": "ipython3",
   "version": "3.6.5"
  }
 },
 "nbformat": 4,
 "nbformat_minor": 2
}
